{
 "cells": [
  {
   "cell_type": "code",
   "execution_count": 1,
   "metadata": {},
   "outputs": [],
   "source": [
    "import pandas as pd\n",
    "import numpy as np\n",
    "import matplotlib.pyplot as plt"
   ]
  },
  {
   "cell_type": "code",
   "execution_count": 2,
   "metadata": {},
   "outputs": [],
   "source": [
    "# Create normal, random, and gamma distributions\n",
    "# make them into a dataframe\n",
    "\n",
    "normal_data = np.random.normal(loc=0,scale=1.0,size=10000)\n",
    "random_data = np.random.random(size=10000)\n",
    "gamma_data = np.random.gamma(2, size=10000)\n",
    "\n",
    "df = pd.DataFrame({'normal': normal_data, 'random': random_data, 'gamma': gamma_data})"
   ]
  },
  {
   "cell_type": "code",
   "execution_count": 3,
   "metadata": {},
   "outputs": [
    {
     "data": {
      "text/html": [
       "<div>\n",
       "<style scoped>\n",
       "    .dataframe tbody tr th:only-of-type {\n",
       "        vertical-align: middle;\n",
       "    }\n",
       "\n",
       "    .dataframe tbody tr th {\n",
       "        vertical-align: top;\n",
       "    }\n",
       "\n",
       "    .dataframe thead th {\n",
       "        text-align: right;\n",
       "    }\n",
       "</style>\n",
       "<table border=\"1\" class=\"dataframe\">\n",
       "  <thead>\n",
       "    <tr style=\"text-align: right;\">\n",
       "      <th></th>\n",
       "      <th>normal</th>\n",
       "      <th>random</th>\n",
       "      <th>gamma</th>\n",
       "    </tr>\n",
       "  </thead>\n",
       "  <tbody>\n",
       "    <tr>\n",
       "      <th>count</th>\n",
       "      <td>10000.000000</td>\n",
       "      <td>10000.000000</td>\n",
       "      <td>10000.000000</td>\n",
       "    </tr>\n",
       "    <tr>\n",
       "      <th>mean</th>\n",
       "      <td>-0.017167</td>\n",
       "      <td>0.499679</td>\n",
       "      <td>1.999035</td>\n",
       "    </tr>\n",
       "    <tr>\n",
       "      <th>std</th>\n",
       "      <td>1.009118</td>\n",
       "      <td>0.287055</td>\n",
       "      <td>1.434043</td>\n",
       "    </tr>\n",
       "    <tr>\n",
       "      <th>min</th>\n",
       "      <td>-4.263600</td>\n",
       "      <td>0.000019</td>\n",
       "      <td>0.003393</td>\n",
       "    </tr>\n",
       "    <tr>\n",
       "      <th>25%</th>\n",
       "      <td>-0.695578</td>\n",
       "      <td>0.250292</td>\n",
       "      <td>0.954560</td>\n",
       "    </tr>\n",
       "    <tr>\n",
       "      <th>50%</th>\n",
       "      <td>-0.019882</td>\n",
       "      <td>0.500581</td>\n",
       "      <td>1.664635</td>\n",
       "    </tr>\n",
       "    <tr>\n",
       "      <th>75%</th>\n",
       "      <td>0.658876</td>\n",
       "      <td>0.746436</td>\n",
       "      <td>2.673321</td>\n",
       "    </tr>\n",
       "    <tr>\n",
       "      <th>max</th>\n",
       "      <td>3.715133</td>\n",
       "      <td>0.999840</td>\n",
       "      <td>11.959187</td>\n",
       "    </tr>\n",
       "  </tbody>\n",
       "</table>\n",
       "</div>"
      ],
      "text/plain": [
       "             normal        random         gamma\n",
       "count  10000.000000  10000.000000  10000.000000\n",
       "mean      -0.017167      0.499679      1.999035\n",
       "std        1.009118      0.287055      1.434043\n",
       "min       -4.263600      0.000019      0.003393\n",
       "25%       -0.695578      0.250292      0.954560\n",
       "50%       -0.019882      0.500581      1.664635\n",
       "75%        0.658876      0.746436      2.673321\n",
       "max        3.715133      0.999840     11.959187"
      ]
     },
     "execution_count": 3,
     "metadata": {},
     "output_type": "execute_result"
    }
   ],
   "source": [
    "df.describe() # gives summary statistics of dataframe\n",
    "\n",
    "# percentage values are interquartile range\n",
    "# min-25, 25-50, 50-75, 75-max"
   ]
  },
  {
   "cell_type": "code",
   "execution_count": 6,
   "metadata": {},
   "outputs": [
    {
     "data": {
      "image/png": "[encoded data removed]",
      "text/plain": [
       "<Figure size 432x288 with 1 Axes>"
      ]
     },
     "metadata": {
      "needs_background": "light"
     },
     "output_type": "display_data"
    }
   ],
   "source": [
    "plt.figure()\n",
    "\n",
    "# plt.boxplot(column to be visualized, whis='range')\n",
    "# whisker values are set to the min and max of column being viualized, aka range of he data\n",
    "\n",
    "_ = plt.boxplot(df['normal'], whis='range')"
   ]
  },
  {
   "cell_type": "code",
   "execution_count": 9,
   "metadata": {},
   "outputs": [
    {
     "data": {
      "image/png": "[encoded data removed]",
      "text/plain": [
       "<Figure size 432x288 with 1 Axes>"
      ]
     },
     "metadata": {
      "needs_background": "light"
     },
     "output_type": "display_data"
    }
   ],
   "source": [
    "plt.clf()\n",
    "_ = plt.boxplot([ df['normal'], df['random'], df['gamma'] ], whis='range') # prints out three box plots"
   ]
  },
  {
   "cell_type": "code",
   "execution_count": 11,
   "metadata": {},
   "outputs": [
    {
     "data": {
      "image/png": "[encoded data removed]",
      "text/plain": [
       "<Figure size 432x288 with 1 Axes>"
      ]
     },
     "metadata": {
      "needs_background": "light"
     },
     "output_type": "display_data"
    }
   ],
   "source": [
    "plt.figure()\n",
    "_ = plt.hist(df['gamma'], bins=100) # histogram view of gamma distribution"
   ]
  },
  {
   "cell_type": "code",
   "execution_count": 15,
   "metadata": {},
   "outputs": [
    {
     "data": {
      "image/png": "[encoded data removed]",
      "text/plain": [
       "<Figure size 432x288 with 2 Axes>"
      ]
     },
     "metadata": {
      "needs_background": "light"
     },
     "output_type": "display_data"
    }
   ],
   "source": [
    "import mpl_toolkits.axes_grid1.inset_locator as mpl_il\n",
    "\n",
    "plt.figure()\n",
    "plt.boxplot([ df['normal'], df['random'], df['gamma'] ], whis='range') # prints out three box plots\n",
    "ax2 = mpl_il.inset_axes(plt.gca(), width='60%', height='40%', loc=2)\n",
    "ax2.hist(df['gamma'], bins=100) # histogram view of gamma distribution\n",
    "ax2.margins(x=.5)\n",
    "ax2.yaxis.tick_right() # moves y axis labels/ticks of hist to the right side"
   ]
  },
  {
   "cell_type": "code",
   "execution_count": 17,
   "metadata": {},
   "outputs": [
    {
     "data": {
      "text/plain": [
       "{'whiskers': [<matplotlib.lines.Line2D at 0x257fa96f348>,\n",
       "  <matplotlib.lines.Line2D at 0x257fa96fe08>,\n",
       "  <matplotlib.lines.Line2D at 0x257fa976448>,\n",
       "  <matplotlib.lines.Line2D at 0x257fa976d08>,\n",
       "  <matplotlib.lines.Line2D at 0x257faa22508>,\n",
       "  <matplotlib.lines.Line2D at 0x257faa22b08>],\n",
       " 'caps': [<matplotlib.lines.Line2D at 0x257fa9827c8>,\n",
       "  <matplotlib.lines.Line2D at 0x257fa982f88>,\n",
       "  <matplotlib.lines.Line2D at 0x257fa97d588>,\n",
       "  <matplotlib.lines.Line2D at 0x257fa97d988>,\n",
       "  <matplotlib.lines.Line2D at 0x257faa09f08>,\n",
       "  <matplotlib.lines.Line2D at 0x257faa09348>],\n",
       " 'boxes': [<matplotlib.lines.Line2D at 0x257fa9f0848>,\n",
       "  <matplotlib.lines.Line2D at 0x257fa940308>,\n",
       "  <matplotlib.lines.Line2D at 0x257fa9ec288>],\n",
       " 'medians': [<matplotlib.lines.Line2D at 0x257fab4f148>,\n",
       "  <matplotlib.lines.Line2D at 0x257fa9e5a88>,\n",
       "  <matplotlib.lines.Line2D at 0x257fa933148>],\n",
       " 'fliers': [<matplotlib.lines.Line2D at 0x257fa940a08>,\n",
       "  <matplotlib.lines.Line2D at 0x257fa9e56c8>,\n",
       "  <matplotlib.lines.Line2D at 0x257fa933308>],\n",
       " 'means': []}"
      ]
     },
     "execution_count": 17,
     "metadata": {},
     "output_type": "execute_result"
    },
    {
     "data": {
      "image/png": "[encoded data removed]",
      "text/plain": [
       "<Figure size 432x288 with 1 Axes>"
      ]
     },
     "metadata": {
      "needs_background": "light"
     },
     "output_type": "display_data"
    }
   ],
   "source": [
    "# how to find outliers? leave the 'whis' argument out\n",
    "plt.boxplot([ df['normal'], df['random'], df['gamma'] ]) # only go out to halfwat between IQR"
   ]
  },
  {
   "cell_type": "code",
   "execution_count": null,
   "metadata": {},
   "outputs": [],
   "source": []
  }
 ],
 "metadata": {
  "kernelspec": {
   "display_name": "Python 3",
   "language": "python",
   "name": "python3"
  },
  "language_info": {
   "codemirror_mode": {
    "name": "ipython",
    "version": 3
   },
   "file_extension": ".py",
   "mimetype": "text/x-python",
   "name": "python",
   "nbconvert_exporter": "python",
   "pygments_lexer": "ipython3",
   "version": "3.7.6"
  }
 },
 "nbformat": 4,
 "nbformat_minor": 4
}
