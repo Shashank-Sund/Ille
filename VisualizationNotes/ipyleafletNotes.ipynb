{
 "cells": [
  {
   "cell_type": "code",
   "execution_count": 1,
   "metadata": {},
   "outputs": [],
   "source": [
    "import pandas as pd\n",
    "import numpy as np\n",
    "import matplotlib.pyplot as plt\n",
    "import requests\n",
    "from bs4 import BeautifulSoup\n",
    "import geopandas\n",
    "import ipyleaflet\n",
    "from ipyleaflet import basemaps,Map,Marker\n",
    "import ipywidgets\n",
    "import geocoder\n",
    "\n",
    "%matplotlib notebook"
   ]
  },
  {
   "cell_type": "code",
   "execution_count": 3,
   "metadata": {},
   "outputs": [],
   "source": [
    "# display map\n",
    "\n",
    "basic_map = Map(zoom=4)\n",
    "display(basic_map)"
   ]
  },
  {
   "cell_type": "code",
   "execution_count": 7,
   "metadata": {},
   "outputs": [
    {
     "data": {
      "application/vnd.jupyter.widget-view+json": {
       "model_id": "59e41b2b8c134842aecef5028d04d073",
       "version_major": 2,
       "version_minor": 0
      },
      "text/plain": [
       "interactive(children=(RadioButtons(description='map types:', options=('Positron', 'DarkMatter', 'WorldStreetMa…"
      ]
     },
     "metadata": {},
     "output_type": "display_data"
    },
    {
     "data": {
      "text/plain": [
       "<function __main__.toggle_maps(map)>"
      ]
     },
     "execution_count": 7,
     "metadata": {},
     "output_type": "execute_result"
    }
   ],
   "source": [
    "# Display Map with Radio Buttons\n",
    "\n",
    "# creating radio buttons\n",
    "    # options = 'radio button labels/options'\n",
    "    # value = 'default option when run'\n",
    "    # description = 'description showed alongside buttons'\n",
    "radio_button = ipywidgets.RadioButtons(options=['Positron', 'DarkMatter', 'WorldStreetMap', 'DeLorme', \n",
    "                                                'WorldTopoMap', 'WorldImagery', 'NatGeoWorldMap', 'HikeBike', \n",
    "                                                'HyddaFull', 'Night', 'ModisTerra', 'Mapnik', 'HOT', 'OpenTopoMap', \n",
    "                                                'Toner', 'Watercolor'],\n",
    "                                       value='Positron', \n",
    "                                       description='map types:')\n",
    "\n",
    "# determine outputs for each radio button selected\n",
    "def toggle_maps(map):\n",
    "    if map == 'Positron': m = Map(zoom=2, basemap=basemaps.CartoDB.Positron)\n",
    "    if map == 'DarkMatter': m = Map(zoom=1, basemap=basemaps.CartoDB.DarkMatter)\n",
    "    if map == 'WorldStreetMap': m = Map(center=(40.67, -73.94), zoom=10, basemap=basemaps.Esri.WorldStreetMap)\n",
    "    if map == 'DeLorme': m = Map(center=(40, -99), zoom=4, basemap=basemaps.Esri.DeLorme)\n",
    "    if map == 'WorldTopoMap': m = Map(center=(40, -99), zoom=4, basemap=basemaps.Esri.WorldTopoMap)\n",
    "    if map == 'WorldImagery': m = Map(center=(40, -99), zoom=4, basemap=basemaps.Esri.WorldImagery)\n",
    "    if map == 'NatGeoWorldMap': m = Map(center=(40, -99), zoom=4, basemap=basemaps.Esri.NatGeoWorldMap)\n",
    "    if map == 'HikeBike': m = Map(center=(39.73, -104.98), zoom=10, basemap=basemaps.HikeBike.HikeBike)\n",
    "    if map == 'HyddaFull': m = Map(center=(40, -99), zoom=4, basemap=basemaps.Hydda.Full)\n",
    "    if map == 'Night': m = Map(center=(40, -99), zoom=4, basemap=basemaps.NASAGIBS.ViirsEarthAtNight2012)\n",
    "    if map == 'ModisTerra': m = Map(center=(40, -99), zoom=4, basemap=basemaps.NASAGIBS.ModisTerraTrueColorCR)\n",
    "    if map == 'Mapnik': m = Map(center=(40, -99), zoom=4, basemap=basemaps.OpenStreetMap.Mapnik)\n",
    "    if map == 'HOT': m = Map(center=(40, -99), zoom=4, basemap=basemaps.OpenStreetMap.HOT)\n",
    "    if map == 'OpenTopoMap': m = Map(center=(40, -99), zoom=4, basemap=basemaps.OpenTopoMap)\n",
    "    if map == 'Toner': m = Map(center=(40, -99), zoom=4, basemap=basemaps.Stamen.Toner)\n",
    "    if map == 'Watercolor': m = Map(center=(40, -99), zoom=4, basemap=basemaps.Stamen.Watercolor)\n",
    "    display(m)\n",
    "\n",
    "# allow interactivity\n",
    "ipywidgets.interact(toggle_maps, map=radio_button)"
   ]
  },
  {
   "cell_type": "code",
   "execution_count": 19,
   "metadata": {},
   "outputs": [
    {
     "data": {
      "application/vnd.jupyter.widget-view+json": {
       "model_id": "ee6d9e3b41b84669b7590f7f58e19965",
       "version_major": 2,
       "version_minor": 0
      },
      "text/plain": [
       "Map(basemap={'url': 'https://{s}.tile.openstreetmap.org/{z}/{x}/{y}.png', 'max_zoom': 19, 'attribution': 'Map …"
      ]
     },
     "metadata": {},
     "output_type": "display_data"
    }
   ],
   "source": [
    "# How to put marker icons on map\n",
    "\n",
    "# gets lat and long for address given\n",
    "location = geocoder.osm('2920 Zoo Dr, San Diego, CA 92101')\n",
    "coordinates = [location.lat, location.lng]\n",
    "coordinates\n",
    "\n",
    "# location.json # TELLS ALL INFORMATION FOUND GIVEN THE ADDRESS\n",
    "\n",
    "# create a map\n",
    "san_diego_zoo = Map(center=coordinates)\n",
    "# add marker\n",
    "marker = Marker(location=coordinates, title='2920 Zoo Dr, San Diego, CA 92101')\n",
    "san_diego_zoo.add_layer(marker)\n",
    "\n",
    "####### ADDING MULTIPLE MARKERS #######\n",
    "\n",
    "# m = Map(center=(50, 0), zoom=5)\n",
    "\n",
    "# marker1 = Marker(location=(48, -2))\n",
    "# marker2 = Marker(location=(50, 0))\n",
    "# marker3 = Marker(location=(52, 2))\n",
    "\n",
    "# marker_cluster = MarkerCluster(\n",
    "#     markers=(marker1, marker2, marker3)\n",
    "# )\n",
    "\n",
    "# m.add_layer(marker_cluster);\n",
    "\n",
    "####### ADDING MULTIPLE MARKERS #######\n",
    "\n",
    "san_diego_zoo"
   ]
  },
  {
   "cell_type": "code",
   "execution_count": null,
   "metadata": {},
   "outputs": [],
   "source": []
  }
 ],
 "metadata": {
  "kernelspec": {
   "display_name": "Python 3",
   "language": "python",
   "name": "python3"
  },
  "language_info": {
   "codemirror_mode": {
    "name": "ipython",
    "version": 3
   },
   "file_extension": ".py",
   "mimetype": "text/x-python",
   "name": "python",
   "nbconvert_exporter": "python",
   "pygments_lexer": "ipython3",
   "version": "3.6.5"
  }
 },
 "nbformat": 4,
 "nbformat_minor": 2
}
