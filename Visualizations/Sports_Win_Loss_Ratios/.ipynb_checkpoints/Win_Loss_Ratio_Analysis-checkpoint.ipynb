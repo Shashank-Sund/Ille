{
 "cells": [
  {
   "cell_type": "code",
   "execution_count": 22,
   "metadata": {},
   "outputs": [],
   "source": [
    "import pandas as pd\n",
    "import numpy as np\n",
    "import scipy.stats as stats\n",
    "import re\n",
    "import matplotlib.pyplot as plt\n",
    "\n",
    "# load in data from assets folder\n",
    "mlb_df=pd.read_csv(\"assets/mlb.csv\")\n",
    "nhl_df=pd.read_csv(\"assets/nhl.csv\")\n",
    "nba_df=pd.read_csv(\"assets/nba.csv\")\n",
    "nfl_df=pd.read_csv(\"assets/nfl.csv\")\n",
    "cities=pd.read_html(\"assets/wikipedia_data.html\")[1]\n",
    "cities=cities.iloc[:-1,[0,3,5,6,7,8]]\n"
   ]
  },
  {
   "cell_type": "code",
   "execution_count": 23,
   "metadata": {},
   "outputs": [],
   "source": [
    "def sports_team_performance(mlb_df=mlb_df, nhl_df=nhl_df, nba_df=nba_df, nfl_df=nfl_df, cities=cities):\n",
    "    \n",
    "    # only uses data from 2018\n",
    "    nfl_df = nfl_df[nfl_df['year'] == 2018]\n",
    "    mlb_df = mlb_df[mlb_df['year'] == 2018]\n",
    "    nba_df = nba_df[nba_df['year'] == 2018]\n",
    "    nhl_df = nhl_df[nhl_df['year'] == 2018]\n",
    "    \n",
    "    #contains each sport's dataframe\n",
    "    cities = cities.set_index('Metropolitan area')\n",
    "    sports = {'NFL':nfl_df, 'MLB':mlb_df, 'NBA':nba_df, 'NHL':nhl_df}\n",
    "    \n",
    "    #used to clean cities df by sport given\n",
    "    def clean_names(teams, city, sport):\n",
    "            teams = re.sub('\\[(.*?)\\]', '', str(teams)).strip()\n",
    "            if 'NHL' == sport:\n",
    "                teams = re.findall('(Red Wings)|(Maple Leafs)|(Blue Jackets)|(Golden Knights)|([A-Z]{1}[a-z]{0,20})', teams)\n",
    "            elif 'NFL' == sport:\n",
    "                teams = re.findall('(Dummy1)|(Dummy2)|(Dummy3)|([0-9]{2}|[A-Z]{1})([a-z]{0,20})', teams)\n",
    "            elif 'NBA' == sport:\n",
    "                teams = re.findall('(Dummy1)|(Dummy2)|(Trail Blazers)|([0-9]{2}|[A-Z]{1})([a-z]{0,20})', teams)\n",
    "            elif 'MLB' == sport:\n",
    "                teams = re.findall('(Dummy1)|(Red Sox)|(Blue Jays)|(White Sox)|([A-Z]{1}[a-z]{0,20})', teams)\n",
    "            out = pd.DataFrame(teams, index=[city for i in range(0,len(teams))])\n",
    "            return out\n",
    "    \n",
    "    #used to get team name by sport df given\n",
    "    def get_team(item):\n",
    "            item = re.sub('[*+]', '', item)\n",
    "            item = re.sub('\\((.*?)\\)', '', item)\n",
    "            x = item.split(' ')\n",
    "            if sport == 'NFL':\n",
    "                return x[len(x)-1]\n",
    "            elif sport == 'NHL':\n",
    "                if x[len(x)-1] == 'Wings':\n",
    "                    return 'Red Wings'\n",
    "                elif x[len(x)-1] == 'Leafs':\n",
    "                    return 'Maple Leafs'\n",
    "                elif x[len(x)-1] == 'Jackets':\n",
    "                    return 'Blue Jackets'\n",
    "                elif x[len(x)-1] == 'Knights':\n",
    "                    return 'Golden Knights'\n",
    "                else:\n",
    "                    return x[len(x)-1]\n",
    "            elif sport == 'NBA':\n",
    "                if x[len(x)-1] == 'Blazers':\n",
    "                    return 'Trail Blazers'\n",
    "                else:\n",
    "                    return x[len(x)-1].strip()\n",
    "            elif sport == 'MLB':\n",
    "                if x[len(x)-1] == 'Sox':\n",
    "                    if x[len(x)-2] == 'White':\n",
    "                        return 'White Sox'\n",
    "                    else:\n",
    "                        return 'Red Sox'\n",
    "                elif x[len(x)-1] == 'Jays':\n",
    "                    return 'Blue Jays'\n",
    "                else:\n",
    "                    return x[len(x)-1]\n",
    "    \n",
    "    clean_dfs = {}\n",
    "    for sport in list(sports.keys()):\n",
    "        #cleanning cities for sport (dataframe contains city/team name, population, just team name)\n",
    "        cleaned_cities = pd.concat(list(map(clean_names, cities[sport].copy(), cities[sport].copy().index, [sport for i in range(0,len(cities[sport].copy())-1)]))).rename(columns={0: 'Team'})\n",
    "        cleaned_cities['Team'] = cleaned_cities['Team']+cleaned_cities[1]+cleaned_cities[2]+cleaned_cities[3]+cleaned_cities[4]\n",
    "        cleaned_cities = cleaned_cities.drop([1,2,3,4], axis=1)\n",
    "        cleaned_cities['Population'] = cleaned_cities.index\n",
    "        cleaned_cities['Population'] = cleaned_cities['Population'].apply(lambda x: cities.loc[x]['Population (2016 est.)[8]'])\n",
    "        cleaned_cities['city_cities'] = cleaned_cities.index\n",
    "        cleaned_cities = cleaned_cities.reset_index()\n",
    "        del cleaned_cities['index']\n",
    "        \n",
    "        sports[sport]['Team'] = pd.Series(map(get_team, sports[sport]['team'].copy())) #clean sport df\n",
    "        clean_dfs[sport] = pd.merge(sports[sport], cleaned_cities, how='inner', left_on='Team', right_on='Team') #merge cleaned cities and sport\n",
    "\n",
    "    return clean_dfs \n",
    "\n",
    "vis = pd.DataFrame([])"
   ]
  },
  {
   "cell_type": "code",
   "execution_count": 24,
   "metadata": {},
   "outputs": [
    {
     "name": "stderr",
     "output_type": "stream",
     "text": [
      "C:\\Users\\sunda\\Anaconda3\\lib\\site-packages\\ipykernel_launcher.py:73: SettingWithCopyWarning: \n",
      "A value is trying to be set on a copy of a slice from a DataFrame.\n",
      "Try using .loc[row_indexer,col_indexer] = value instead\n",
      "\n",
      "See the caveats in the documentation: http://pandas.pydata.org/pandas-docs/stable/indexing.html#indexing-view-versus-copy\n",
      "C:\\Users\\sunda\\Anaconda3\\lib\\site-packages\\ipykernel_launcher.py:7: FutureWarning: using a dict on a Series for aggregation\n",
      "is deprecated and will be removed in a future version\n",
      "  import sys\n",
      "C:\\Users\\sunda\\Anaconda3\\lib\\site-packages\\ipykernel_launcher.py:8: FutureWarning: using a dict on a Series for aggregation\n",
      "is deprecated and will be removed in a future version\n",
      "  \n"
     ]
    }
   ],
   "source": [
    "# Calculates Win Loss Ratio correlation with population for MLB \n",
    "\n",
    "combined = sports_team_performance()['MLB']\n",
    "combined['W-L%'] = combined['W-L%'].apply(lambda x: float(x))\n",
    "combined['Population'] = combined['Population'].astype(float)\n",
    "\n",
    "fin1 = combined.groupby('city_cities')['W-L%'].agg({'win_loss': np.average}).sort_values(by='city_cities', ascending=True)\n",
    "fin2 = combined.groupby('city_cities')['Population'].agg({'pop': np.average}).sort_values(by='city_cities', ascending=True)\n",
    "\n",
    "population_by_region = fin2['pop'] # pass in metropolitan area population from cities\n",
    "win_loss_by_region = fin1['win_loss'] # pass in win/loss ratio from nfl_df in the same order as cities[\"Metropolitan area\"]\n",
    "\n",
    "vis['MLB'] = [stats.pearsonr(population_by_region, win_loss_by_region)[0]] # correlation is first value"
   ]
  },
  {
   "cell_type": "code",
   "execution_count": 25,
   "metadata": {},
   "outputs": [
    {
     "name": "stderr",
     "output_type": "stream",
     "text": [
      "C:\\Users\\sunda\\Anaconda3\\lib\\site-packages\\ipykernel_launcher.py:73: SettingWithCopyWarning: \n",
      "A value is trying to be set on a copy of a slice from a DataFrame.\n",
      "Try using .loc[row_indexer,col_indexer] = value instead\n",
      "\n",
      "See the caveats in the documentation: http://pandas.pydata.org/pandas-docs/stable/indexing.html#indexing-view-versus-copy\n",
      "C:\\Users\\sunda\\Anaconda3\\lib\\site-packages\\ipykernel_launcher.py:7: FutureWarning: using a dict on a Series for aggregation\n",
      "is deprecated and will be removed in a future version\n",
      "  import sys\n",
      "C:\\Users\\sunda\\Anaconda3\\lib\\site-packages\\ipykernel_launcher.py:8: FutureWarning: using a dict on a Series for aggregation\n",
      "is deprecated and will be removed in a future version\n",
      "  \n"
     ]
    }
   ],
   "source": [
    "# Calculates Win Loss Ratio correlation with population for NFL\n",
    "\n",
    "combined = sports_team_performance()['NFL']\n",
    "combined['W-L%'] = combined['W-L%'].apply(lambda x: float(x))\n",
    "combined['Population'] = combined['Population'].astype(float)\n",
    "    \n",
    "fin1 = combined.groupby('city_cities')['W-L%'].agg({'win_loss': np.average}).sort_values(by='city_cities', ascending=True)\n",
    "fin2 = combined.groupby('city_cities')['Population'].agg({'pop': np.average}).sort_values(by='city_cities', ascending=True)\n",
    "\n",
    "population_by_region = fin2['pop'] # pass in metropolitan area population from cities\n",
    "win_loss_by_region = fin1['win_loss'] # pass in win/loss ratio from nfl_df in the same order as cities[\"Metropolitan area\"]\n",
    "\n",
    "vis['NFL'] = [stats.pearsonr(population_by_region, win_loss_by_region)[0]]"
   ]
  },
  {
   "cell_type": "code",
   "execution_count": 26,
   "metadata": {},
   "outputs": [
    {
     "name": "stderr",
     "output_type": "stream",
     "text": [
      "C:\\Users\\sunda\\Anaconda3\\lib\\site-packages\\ipykernel_launcher.py:73: SettingWithCopyWarning: \n",
      "A value is trying to be set on a copy of a slice from a DataFrame.\n",
      "Try using .loc[row_indexer,col_indexer] = value instead\n",
      "\n",
      "See the caveats in the documentation: http://pandas.pydata.org/pandas-docs/stable/indexing.html#indexing-view-versus-copy\n",
      "C:\\Users\\sunda\\Anaconda3\\lib\\site-packages\\ipykernel_launcher.py:7: FutureWarning: using a dict on a Series for aggregation\n",
      "is deprecated and will be removed in a future version\n",
      "  import sys\n",
      "C:\\Users\\sunda\\Anaconda3\\lib\\site-packages\\ipykernel_launcher.py:8: FutureWarning: using a dict on a Series for aggregation\n",
      "is deprecated and will be removed in a future version\n",
      "  \n"
     ]
    }
   ],
   "source": [
    "# Calculates Win Loss Ratio correlation with population for NBA\n",
    "\n",
    "combined = sports_team_performance()['NBA']\n",
    "combined['W/L%'] = combined['W/L%'].apply(lambda x: float(x))\n",
    "combined['Population'] = combined['Population'].astype(float)\n",
    "    \n",
    "fin1 = combined.groupby('city_cities')['W/L%'].agg({'win_loss': np.average}).sort_values(by='city_cities', ascending=True)\n",
    "fin2 = combined.groupby('city_cities')['Population'].agg({'pop': np.average}).sort_values(by='city_cities', ascending=True)\n",
    "    \n",
    "population_by_region = fin2['pop'] # pass in metropolitan area population from cities\n",
    "win_loss_by_region = fin1['win_loss'] # pass in win/loss ratio from nba_df in the same order as cities[\"Metropolitan area\"]\n",
    "\n",
    "vis['NBA'] = [stats.pearsonr(population_by_region, win_loss_by_region)[0]]"
   ]
  },
  {
   "cell_type": "code",
   "execution_count": 27,
   "metadata": {},
   "outputs": [
    {
     "name": "stderr",
     "output_type": "stream",
     "text": [
      "C:\\Users\\sunda\\Anaconda3\\lib\\site-packages\\ipykernel_launcher.py:73: SettingWithCopyWarning: \n",
      "A value is trying to be set on a copy of a slice from a DataFrame.\n",
      "Try using .loc[row_indexer,col_indexer] = value instead\n",
      "\n",
      "See the caveats in the documentation: http://pandas.pydata.org/pandas-docs/stable/indexing.html#indexing-view-versus-copy\n",
      "C:\\Users\\sunda\\Anaconda3\\lib\\site-packages\\ipykernel_launcher.py:9: FutureWarning: using a dict on a Series for aggregation\n",
      "is deprecated and will be removed in a future version\n",
      "  if __name__ == '__main__':\n",
      "C:\\Users\\sunda\\Anaconda3\\lib\\site-packages\\ipykernel_launcher.py:10: FutureWarning: using a dict on a Series for aggregation\n",
      "is deprecated and will be removed in a future version\n",
      "  # Remove the CWD from sys.path while we load stuff.\n"
     ]
    }
   ],
   "source": [
    "# Calculates Win Loss Ratio correlation with population for NHL\n",
    "\n",
    "combined = sports_team_performance()['NHL']\n",
    "combined['W'] = combined['W'].astype(float)\n",
    "combined['L'] = combined['L'].astype(float)\n",
    "combined['W-L%'] = combined['W']/(combined['W']+combined['L'])\n",
    "combined['Population'] = combined['Population'].astype(float)\n",
    "    \n",
    "fin1 = combined.groupby('city_cities')['W-L%'].agg({'win_loss': np.average}).sort_values(by='city_cities', ascending=True)\n",
    "fin2 = combined.groupby('city_cities')['Population'].agg({'pop': np.average}).sort_values(by='city_cities', ascending=True)    \n",
    "    \n",
    "population_by_region = fin2['pop'] # pass in metropolitan area population from cities\n",
    "win_loss_by_region = fin1['win_loss'] # pass in win/loss ratio from nhl_df in the same order as cities[\"Metropolitan area\"]\n",
    "    \n",
    "vis['NHL'] = [stats.pearsonr(population_by_region, win_loss_by_region)[0]]"
   ]
  },
  {
   "cell_type": "code",
   "execution_count": 47,
   "metadata": {},
   "outputs": [
    {
     "name": "stdout",
     "output_type": "stream",
     "text": [
      "[0.15003737475409495, 0.0042821414363930135, -0.16479988647211882, 0.0124861629212099]\n"
     ]
    },
    {
     "data": {
      "text/plain": [
       "<BarContainer object of 4 artists>"
      ]
     },
     "execution_count": 47,
     "metadata": {},
     "output_type": "execute_result"
    },
    {
     "data": {
      "image/png": "[encoded data removed]",
      "text/plain": [
       "<Figure size 432x288 with 1 Axes>"
      ]
     },
     "metadata": {},
     "output_type": "display_data"
    }
   ],
   "source": [
    "# plot\n",
    "plt.figure()\n",
    "print(vis.iloc[0].tolist())\n",
    "plt.bar(vis.columns.tolist(), vis.iloc[0].tolist(), width = 0.3)"
   ]
  },
  {
   "cell_type": "code",
   "execution_count": null,
   "metadata": {},
   "outputs": [],
   "source": []
  },
  {
   "cell_type": "code",
   "execution_count": null,
   "metadata": {},
   "outputs": [],
   "source": []
  }
 ],
 "metadata": {
  "kernelspec": {
   "display_name": "Python 3",
   "language": "python",
   "name": "python3"
  },
  "language_info": {
   "codemirror_mode": {
    "name": "ipython",
    "version": 3
   },
   "file_extension": ".py",
   "mimetype": "text/x-python",
   "name": "python",
   "nbconvert_exporter": "python",
   "pygments_lexer": "ipython3",
   "version": "3.6.5"
  }
 },
 "nbformat": 4,
 "nbformat_minor": 2
}
